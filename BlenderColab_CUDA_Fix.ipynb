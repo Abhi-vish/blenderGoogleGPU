{
  "nbformat": 4,
  "nbformat_minor": 0,
  "metadata": {
    "colab": {
      "name": "BlenderColab_Nov_2021.ipynb",
      "private_outputs": true,
      "provenance": [],
      "collapsed_sections": []
    },
    "kernelspec": {
      "name": "python3",
      "display_name": "Python 3"
    },
    "accelerator": "GPU"
  },
  "cells": [
    {
      "cell_type": "markdown",
      "metadata": {
        "id": "CwraDEw7cENB"
      },
      "source": [
        "# Render Blender Files on Google Colab\n",
        "##Created by microSingularity \n",
        "https://www.youtube.com/c/MicroSingularity"
      ]
    },
    {
      "cell_type": "code",
      "metadata": {
        "id": "h_E1kl9W4iV8"
      },
      "source": [
        "#Connect Google Drive to Google Colab\n",
        "#=====================================\n",
        "from google.colab import drive\n",
        "drive.mount('/content/drive')"
      ],
      "execution_count": null,
      "outputs": []
    },
    {
      "cell_type": "code",
      "metadata": {
        "id": "ldykR0fMftHt"
      },
      "source": [
        "#Download Blender from Blender Repository\n",
        "#=====================================\n",
        "!wget https://builder.blender.org/download/daily/blender-3.0.0-beta+v30.11392829adfe-linux.x86_64-release.tar.xz"
      ],
      "execution_count": null,
      "outputs": []
    },
    {
      "cell_type": "code",
      "metadata": {
        "id": "ANYFn5tFH_PE"
      },
      "source": [
        "#Copy Blender Zip File to Google Drive\n",
        "#=====================================\n",
        "#!cp /content/blender-3.0.0-beta+v30.11392829adfe-linux.x86_64-release.tar.xz /content/drive/MyDrive/Blender/blender-3.0.0-beta+v30.11392829adfe-linux.x86_64-release.tar.xz\n",
        "\n",
        "#Copy Blender Zip File from Google Drive\n",
        "#=====================================\n",
        "!cp /content/drive/MyDrive/Blender/blender-3.0.0-beta+v30.11392829adfe-linux.x86_64-release.tar.xz /content/blender-3.0.0-beta+v30.11392829adfe-linux.x86_64-release.tar.xz"
      ],
      "execution_count": null,
      "outputs": []
    },
    {
      "cell_type": "code",
      "metadata": {
        "id": "EgF_QaSVP7AO"
      },
      "source": [
        ""
      ],
      "execution_count": null,
      "outputs": []
    },
    {
      "cell_type": "code",
      "metadata": {
        "id": "rQ-CKpS5hBFo"
      },
      "source": [
        "#Unzip Blender \n",
        "#=====================================\n",
        "!tar xf /content/blender-3.0.0-beta+v30.11392829adfe-linux.x86_64-release.tar.xz\n"
      ],
      "execution_count": null,
      "outputs": []
    },
    {
      "cell_type": "code",
      "metadata": {
        "id": "d20avlrs8oWf"
      },
      "source": [
        "#Deletes the Default libtcmalloc-minimal4 version and installs the Ubuntu default version\n",
        "import os\n",
        "\n",
        "os.environ[\"LD_PRELOAD\"] = \"\"\n",
        "\n",
        "#Deletes wrong Version of libtcmalloc-minimal4\n",
        "!apt remove libtcmalloc-minimal4\n",
        "#Installs correct version of libtcmalloc-minimal4\n",
        "!apt install libtcmalloc-minimal4\n",
        "\n",
        "#Adds this library to the user environment\n",
        "os.environ[\"LD_PRELOAD\"] = \"/usr/lib/x86_64-linux-gnu/libtcmalloc_minimal.so.4.3.0\"\n"
      ],
      "execution_count": null,
      "outputs": []
    },
    {
      "cell_type": "code",
      "metadata": {
        "id": "AYLt4dk18KPS"
      },
      "source": [
        "#Path of Blender File to be Rendered \n",
        "#===========================\n",
        "filename = '/content/drive/MyDrive/BlenderColab.blend'"
      ],
      "execution_count": null,
      "outputs": []
    },
    {
      "cell_type": "code",
      "metadata": {
        "id": "_p77a65khTRB"
      },
      "source": [
        "#Run Blender\n",
        "#============================\n",
        "!./blender-3.0.0-beta+v30.11392829adfe-linux.x86_64-release/blender -b  $filename -noaudio -E 'CYCLES' --debug-all -o \"/content/drive/MyDrive/Blender\" -f 1 -F 'PNG' -- --cycles-device CUDA"
      ],
      "execution_count": null,
      "outputs": []
    },
    {
      "cell_type": "code",
      "metadata": {
        "id": "UcXH9y2fG0Ub"
      },
      "source": [
        "#Uncomment to Check NVidia GPU Status\n",
        "#!nvidia-smi"
      ],
      "execution_count": null,
      "outputs": []
    }
  ]
}