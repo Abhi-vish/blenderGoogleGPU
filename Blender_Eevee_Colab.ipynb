{
  "nbformat": 4,
  "nbformat_minor": 0,
  "metadata": {
    "colab": {
      "name": "Blender Eevee Colab",
      "private_outputs": true,
      "provenance": [],
      "collapsed_sections": []
    },
    "kernelspec": {
      "name": "python3",
      "display_name": "Python 3"
    },
    "accelerator": "GPU"
  },
  "cells": [
    {
      "cell_type": "markdown",
      "metadata": {
        "id": "CwraDEw7cENB"
      },
      "source": [
        "# Render Eevee Blender Scenes on Google Colab\n",
        "##Created by microSingularity \n",
        "https://www.youtube.com/c/MicroSingularity"
      ]
    },
    {
      "cell_type": "code",
      "metadata": {
        "id": "h_E1kl9W4iV8"
      },
      "source": [
        "#Connect Google Drive to Google Colab\n",
        "#=====================================\n",
        "from google.colab import drive\n",
        "drive.mount('/content/drive')"
      ],
      "execution_count": null,
      "outputs": []
    },
    {
      "cell_type": "code",
      "metadata": {
        "id": "ldykR0fMftHt"
      },
      "source": [
        "#Download Blender 3.4 from Blender Repository (Must be Blender 3.4 or higher). \n",
        "#Other Versions are here: https://download.blender.org/release/\n",
        "#=====================================\n",
        "!wget https://builder.blender.org/download/daily/blender-3.4.0-alpha+master.7f6cd405b99c-linux.x86_64-release.tar.xz"
      ],
      "execution_count": null,
      "outputs": []
    },
    {
      "cell_type": "code",
      "metadata": {
        "id": "ANYFn5tFH_PE"
      },
      "source": [
        "#Use these commands to move Blender zip file to Google Drive and then back to working directory so you don't have to download Blender each time\n",
        "\n",
        "#Copy Blender Zip File to Google Drive (once downloaded) - Change file name to match the Blender version downloaded\n",
        "#=====================================\n",
        "#!cp /content/blender-3.4.0-alpha+master.7f6cd405b99c-linux.x86_64-release.tar.xz /content/drive/MyDrive/Blender/blender-3.4.0-alpha+master.7f6cd405b99c-linux.x86_64-release.tar.xz\n",
        "\n",
        "#Copy Blender Zip File from Google Drive\n",
        "#=====================================\n",
        "!cp /content/drive/MyDrive/Blender/blender-3.4.0-alpha+master.7f6cd405b99c-linux.x86_64-release.tar.xz /content/blender-3.4.0-alpha+master.7f6cd405b99c-linux.x86_64-release.tar.xz"
      ],
      "execution_count": null,
      "outputs": []
    },
    {
      "cell_type": "code",
      "metadata": {
        "id": "rQ-CKpS5hBFo"
      },
      "source": [
        "#Unzip Blender (change file name to match downloaded version)\n",
        "#=====================================\n",
        "!tar xf /content/blender-3.4.0-alpha+master.7f6cd405b99c-linux.x86_64-release.tar.xz\n"
      ],
      "execution_count": null,
      "outputs": []
    },
    {
      "cell_type": "code",
      "metadata": {
        "id": "AYLt4dk18KPS"
      },
      "source": [
        "#Path of Blender File to be Rendered (change path to your Blender file)\n",
        "#===========================\n",
        "filename = '/content/drive/MyDrive/RobotEevee.blend'"
      ],
      "execution_count": null,
      "outputs": []
    },
    {
      "cell_type": "code",
      "metadata": {
        "id": "_p77a65khTRB"
      },
      "source": [
        "#Render Single Frame: Change -f 1 to -f 100 to render frame 100 for example\n",
        "#===========================================================================\n",
        "!./blender-3.4.0-alpha+master.7f6cd405b99c-linux.x86_64-release/blender -b $filename -noaudio -o \"/content/drive/MyDrive/\" -f 1 -F 'PNG'\n",
        "#!./blender-3.4.0-alpha+master.7f6cd405b99c-linux.x86_64-release/blender -b $filename -noaudio -o \"/content/drive/MyDrive/\" -s 1 -e 100 -a"
      ],
      "execution_count": null,
      "outputs": []
    }
  ]
}